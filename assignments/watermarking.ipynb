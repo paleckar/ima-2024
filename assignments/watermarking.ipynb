{
 "cells": [
  {
   "cell_type": "markdown",
   "metadata": {},
   "source": [
    "# Image watermarking using blending"
   ]
  },
  {
   "cell_type": "code",
   "execution_count": null,
   "metadata": {},
   "outputs": [],
   "source": [
    "import matplotlib.pyplot as plt\n",
    "import numpy as np\n",
    "import skimage\n",
    "\n",
    "import sys; sys.path.append('..')\n",
    "from tests import test_watermarking"
   ]
  },
  {
   "cell_type": "markdown",
   "metadata": {},
   "source": [
    "# Task 1\n",
    "\n",
    "1. Load the input image `fruits.jpg`.\n",
    "2. Load the watermark image `ima.png`.  \n",
    "   This image is has 4 channels: the first three are R, G and B, the 4th channel is alpha (transparency).\n",
    "3. Implement the the function `watermark`.\n",
    "4. Use the `watermark` function to blend the input image and the watermark.  \n",
    "   Use the RGB channels of the `ima.png` as the watermark image and its alpha channel as the mask, see below.\n",
    "\n",
    "**Notes for the `watermark` function**\n",
    "- The function will take as inputs\n",
    "  - input image `image: np.ndarray`, which can be either RGB or grayscale image,\n",
    "  - watermark image `mark: np.ndarray`, which can be either RGB or grayscale image,\n",
    "  - mask `mask: np.ndarray`, which is a grayscale image\n",
    "  - blending coefficient `alpha: float`\n",
    "- The function will blend the images as per\n",
    "  $$\n",
    "  \\textrm{blend} = \\textrm{input} + \\alpha \\cdot \\textrm{mask} \\cdot \\textrm{mark}\n",
    "  $$\n",
    "- The output will be\n",
    "  - an image with `float` datatype with pixel values in the range $[0, 1]$ and the same size as the input image `image`.\n",
    "  - values $\\lt 0$ or $\\gt 1$ will be clipped to the range $[0, 1]$.\n",
    "  - If either of input and watermark is RGB, the output will also be RGB.\n",
    "- If the watermark or mask have different size than the input, resize them to the same size as the input image. Use the function `skimage.transform.resize` with default options."
   ]
  },
  {
   "cell_type": "code",
   "execution_count": null,
   "metadata": {},
   "outputs": [],
   "source": [
    "rgb = skimage.io.imread('../data/fruits.jpg')\n",
    "mark = skimage.io.imread('../data/ima.png')"
   ]
  },
  {
   "cell_type": "code",
   "execution_count": null,
   "metadata": {},
   "outputs": [],
   "source": [
    "fig, axes = plt.subplots(1, 2, figsize=plt.figaspect(0.5))\n",
    "axes[0].imshow(rgb);\n",
    "axes[1].imshow(mark);"
   ]
  },
  {
   "cell_type": "code",
   "execution_count": null,
   "metadata": {},
   "outputs": [],
   "source": [
    "def watermark(image: np.ndarray, mark: np.ndarray, mask: np.ndarray, alpha: float = 0.5) -> np.ndarray:\n",
    "    \"\"\"\n",
    "    Args:\n",
    "        image: input image of shape (Mi, Ni) or (Mi, Ni, 3), dtype uint8 or float\n",
    "        mark: watermark image of shape (Mw, Nw) or (Mw, Nw, 3), dtype uint8 or float\n",
    "        mask: mask image of shape (Mm, Nm), dtype uint8 or float\n",
    "    Returns:\n",
    "        blend: shape (Mi, Ni) or (Mi, Ni, 3), dtype float\n",
    "    \"\"\"\n",
    "    \n",
    "    ########################################\n",
    "    # TODO: implement\n",
    "\n",
    "    raise NotImplementedError\n",
    "\n",
    "    # ENDTODO\n",
    "    ########################################"
   ]
  },
  {
   "cell_type": "code",
   "execution_count": null,
   "metadata": {},
   "outputs": [],
   "source": [
    "blend = watermark(rgb, mark[..., :3], mark[..., 3], alpha=0.2)\n",
    "blend.shape, blend.dtype, blend.min(), blend.max()"
   ]
  },
  {
   "cell_type": "code",
   "execution_count": null,
   "metadata": {},
   "outputs": [],
   "source": [
    "fig, axes = plt.subplots(1, 3, figsize=plt.figaspect(0.3))\n",
    "axes[0].imshow(rgb);\n",
    "axes[1].imshow(mark);\n",
    "axes[2].imshow(blend);"
   ]
  },
  {
   "cell_type": "code",
   "execution_count": null,
   "metadata": {},
   "outputs": [],
   "source": [
    "# Verify that the watermark function works correctly\n",
    "test_watermarking.TestWatermark.eval(watermark_fn=watermark)"
   ]
  }
 ],
 "metadata": {
  "kernelspec": {
   "display_name": "ima23",
   "language": "python",
   "name": "python3"
  },
  "language_info": {
   "codemirror_mode": {
    "name": "ipython",
    "version": 3
   },
   "file_extension": ".py",
   "mimetype": "text/x-python",
   "name": "python",
   "nbconvert_exporter": "python",
   "pygments_lexer": "ipython3",
   "version": "3.11.5"
  }
 },
 "nbformat": 4,
 "nbformat_minor": 2
}
