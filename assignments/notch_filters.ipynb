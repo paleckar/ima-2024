{
 "cells": [
  {
   "cell_type": "markdown",
   "metadata": {},
   "source": [
    "# Removing Moiré pattern using notch filters"
   ]
  },
  {
   "cell_type": "markdown",
   "metadata": {},
   "source": [
    "- Notch filters are bandreject filters with a narrow band of attenuated frequencies.\n",
    "- In 2D, the stop band will be a small region around a *zero frequency* $(k_0,l_0)$.\n",
    "- Notch filters have similar magnitude spectrum to highpass filters, except the center of their stop band is not at the origin $(0,0)$ but rather at $(k_0,l_0)$.\n",
    "- Since we're only considering zero phase-shift filters that have *symmetric* spectrum, there will also be a stop band around $(-k_0,-l_0)$.\n",
    "- Thus, notch filters can be expressed as products\n",
    "  $$\n",
    "  H_\\textrm{NR}(k,l) = H_\\textrm{HP}(k-k_0,l-l_0) \\cdot H_\\textrm{HP}(k+k_0,l+l_0)\n",
    "  $$\n",
    "  where $H_\\textrm{HP}(k-k_0,l-l_0)$ is a highpass filter with its center shifted to $(k_0,l_0)$.\n",
    "- If there are multiple stop bands, the joint notch filter is a product of partial notch filters, i.e.\n",
    "  $$\n",
    "  H_\\textrm{NR}(k,l) = \\prod_{b=1}^{B}{ H_\\textrm{HP}(k-k_{0b},l-l_{0b}) \\cdot H_\\textrm{HP}(k+k_{0b},l+l_{0b}) }\n",
    "  $$\n",
    "  where $B$ is the number of stop bands.\n",
    "- We'll use a notch filter to remove Moiré pattern from a printed image.\n",
    "\n",
    "We'll proceed in four steps:\n",
    "1. compute the DFT of the inputt image,\n",
    "2. identify the Moiré harmonics as local maxima of the spectrum,\n",
    "3. create a notch filter for each spectrum peak,\n",
    "4. apply the notch filter to he image in the frequency domain and transform back to spatial domain.\n",
    "\n",
    "<figure class=\"image\">\n",
    "  <img src=\"../figures/notch_filters-expected_outputs.png\" alt=\"\" style=\"width: 12.8in;\"/>\n",
    "  <figcaption>Figure 1: Expected outputs of the fake depth of field effect</figcaption>\n",
    "</figure>"
   ]
  },
  {
   "cell_type": "code",
   "execution_count": null,
   "metadata": {},
   "outputs": [],
   "source": [
    "import matplotlib.pyplot as plt\n",
    "import numpy as np\n",
    "import scipy\n",
    "import skimage"
   ]
  },
  {
   "cell_type": "code",
   "execution_count": null,
   "metadata": {},
   "outputs": [],
   "source": [
    "plt.rcParams['figure.constrained_layout.use'] = True"
   ]
  },
  {
   "cell_type": "code",
   "execution_count": null,
   "metadata": {},
   "outputs": [],
   "source": [
    "gray = skimage.util.img_as_float(skimage.io.imread('../data/woman_moire.jpg', as_gray=True))\n",
    "gray.shape, gray.dtype, gray.min(), gray.max()"
   ]
  },
  {
   "cell_type": "markdown",
   "metadata": {},
   "source": [
    "# Task 1: Compute & show log of the centered DFT spectrum of the image"
   ]
  },
  {
   "cell_type": "markdown",
   "metadata": {},
   "source": [
    "- Show the *logarithm* of the magnitude spectrum.\n",
    "- The spectrum should be centered, i.e. the origin at the middle (`fftshift`).\n",
    "- Plot the image and its spectrum."
   ]
  },
  {
   "cell_type": "code",
   "execution_count": 10,
   "metadata": {},
   "outputs": [],
   "source": []
  },
  {
   "cell_type": "markdown",
   "metadata": {},
   "source": [
    "# Task 2: Identify the frequencies to be zeroed out"
   ]
  },
  {
   "cell_type": "markdown",
   "metadata": {},
   "source": [
    "- Find the spectrum peaks as local maxima of the magnitude.\n",
    "- You can use the function [`skimage.feature.peak_local_max`](https://scikit-image.org/docs/stable/api/skimage.feature.html#skimage.feature.peak_local_max).\n",
    "- All the peaks except the one at the origin correspond to harmonics of the moiré pattern.\n",
    "- Pick the indicies which are not the at the spectrum origin (all except one).\n",
    "- Make sure that for each location $(k_0,l_0)$ you also pick its mirror peak $(-k_0,-l_0)$, i.e. the spectrum of the notch filter must be symmetric around the origin.\n",
    "- Plot the results."
   ]
  },
  {
   "cell_type": "code",
   "execution_count": null,
   "metadata": {},
   "outputs": [],
   "source": []
  },
  {
   "cell_type": "markdown",
   "metadata": {},
   "source": [
    "# Task 3: Create the notch filter"
   ]
  },
  {
   "cell_type": "markdown",
   "metadata": {},
   "source": [
    "- At each location $(k_0, l_0)$, zero-out the spectrum using a narrow *Butterworth* high pass filter, i.e. *do not* zero-out using ideal high pass with sharp boundaries.\n",
    "- You can use e.g. the `butterworth_lowpass2d` from the lecture. The function allows you to create a *shifted low pass* filter. Remember that HP = 1 - LP.\n",
    "- The joint butterworth filter that zeroes-out all moiré frequencies simultaneously is the product of these single-frequency filters.\n",
    "- Plot the transfer function of the joint notch filter, i.e. its magnitude spectrum."
   ]
  },
  {
   "cell_type": "code",
   "execution_count": 21,
   "metadata": {},
   "outputs": [],
   "source": []
  },
  {
   "cell_type": "markdown",
   "metadata": {},
   "source": [
    "# Task 4: Apply the filter to the image"
   ]
  },
  {
   "cell_type": "markdown",
   "metadata": {},
   "source": [
    "- Convolve the Butterworth notch filter with the input image.\n",
    "- E.g. you can use the `fftconvolve` function from the lecture or simply multiply the Butterworth filter (transfer function) with the input image's DFT spectrum and the `ifft2` back to the spatial domain.\n",
    "- Be careful about whether the spectrums are centered (`fftshift`-ed) or not.\n",
    "- Plot the original and filtered image next to each other."
   ]
  },
  {
   "cell_type": "code",
   "execution_count": null,
   "metadata": {},
   "outputs": [],
   "source": []
  },
  {
   "cell_type": "markdown",
   "metadata": {},
   "source": [
    "# Task 5 (optional): Plot the notch filter in the spatial domain"
   ]
  },
  {
   "cell_type": "markdown",
   "metadata": {},
   "source": [
    "- Transform the notch filter transfer function into the spatial domain and plot.\n",
    "- You'll need to shift the origin of the kernel to the center of the image (e.g. using `np.roll`), see the lecture.\n",
    "- Also, \"zoom-in\" on the center, i.e. plot only the middle part (again, see the lecture)."
   ]
  },
  {
   "cell_type": "code",
   "execution_count": 33,
   "metadata": {},
   "outputs": [],
   "source": []
  }
 ],
 "metadata": {
  "kernelspec": {
   "display_name": "ima23",
   "language": "python",
   "name": "python3"
  },
  "language_info": {
   "codemirror_mode": {
    "name": "ipython",
    "version": 3
   },
   "file_extension": ".py",
   "mimetype": "text/x-python",
   "name": "python",
   "nbconvert_exporter": "python",
   "pygments_lexer": "ipython3",
   "version": "3.11.5"
  }
 },
 "nbformat": 4,
 "nbformat_minor": 2
}
