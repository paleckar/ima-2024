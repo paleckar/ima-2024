{
 "cells": [
  {
   "cell_type": "markdown",
   "id": "f76f338d",
   "metadata": {},
   "source": [
    "# Histogram equalization for RGB images\n",
    "\n",
    "- In this assignment, you will apply histogram equalization to RGB color images.\n",
    "- You will try two methods: application to each channel individually and usage of common equalization based on grayscale image for all channels.\n",
    "- Also, there is an optional task to implement a function for creating an arbitrary intensity transformation look-up table (LUT)."
   ]
  },
  {
   "cell_type": "code",
   "execution_count": null,
   "id": "1ac15df9",
   "metadata": {},
   "outputs": [],
   "source": [
    "import matplotlib.pyplot as plt\n",
    "import numpy as np\n",
    "import seaborn as sns\n",
    "import skimage\n",
    "\n",
    "import sys; sys.path.append('..')\n",
    "from tests import test_histogram_equalization"
   ]
  },
  {
   "cell_type": "code",
   "execution_count": null,
   "id": "7b67a07d",
   "metadata": {},
   "outputs": [],
   "source": [
    "rgb = skimage.io.imread('../data/fruits.jpg')\n",
    "gray = skimage.util.img_as_ubyte(skimage.color.rgb2gray(rgb))"
   ]
  },
  {
   "cell_type": "code",
   "execution_count": null,
   "id": "c586aebe",
   "metadata": {},
   "outputs": [],
   "source": [
    "fig, axes = plt.subplots(1, 2, figsize=plt.figaspect(0.5), layout='constrained')\n",
    "axes[0].imshow(rgb)\n",
    "axes[1].imshow(gray, cmap='gray', vmin=0, vmax=255);"
   ]
  },
  {
   "cell_type": "markdown",
   "id": "99a4123f",
   "metadata": {},
   "source": [
    "# Task 0: prepare functions"
   ]
  },
  {
   "cell_type": "markdown",
   "id": "6057ebd6",
   "metadata": {},
   "source": [
    "\n",
    "Prepare two following functions:\n",
    "1. `create_histogram_equalization_lut`\n",
    "2. `histogram_equalization`\n",
    "\n",
    "Hints:\n",
    "- You can just copy&paste `create_histogram_equalization_lut` from the [intensity_transformations](../lectures/intensity_transformations.ipynb) lecture notebook.\n",
    "- Note the usage of the `cdf` function."
   ]
  },
  {
   "cell_type": "code",
   "execution_count": null,
   "id": "a635cc57",
   "metadata": {},
   "outputs": [],
   "source": [
    "def create_histogram_equalization_lut(h: np.ndarray) -> np.ndarray:\n",
    "    ########################################\n",
    "    # TODO: implement\n",
    "\n",
    "    raise NotImplementedError\n",
    "\n",
    "    ########################################\n",
    "\n",
    "    return lut"
   ]
  },
  {
   "cell_type": "code",
   "execution_count": null,
   "id": "41c8519a",
   "metadata": {},
   "outputs": [],
   "source": [
    "test_histogram_equalization.TestCreateHistogramEqualizationLut.eval(create_histogram_equalization_lut_fn=create_histogram_equalization_lut)"
   ]
  },
  {
   "cell_type": "markdown",
   "id": "7c210dc5",
   "metadata": {},
   "source": [
    "Prepare a function called `equalize_histogram`, that will take in a grayscale image (2D matrix) and output an equalized version of it."
   ]
  },
  {
   "cell_type": "code",
   "execution_count": null,
   "id": "58ccd235",
   "metadata": {},
   "outputs": [],
   "source": [
    "def equalize_histogram(gray: np.ndarray) -> np.ndarray:\n",
    "    ########################################\n",
    "    # TODO: implement\n",
    "\n",
    "    raise NotImplementedError\n",
    "\n",
    "    ########################################\n",
    "\n",
    "    return equalized"
   ]
  },
  {
   "cell_type": "code",
   "execution_count": null,
   "id": "113f64d2",
   "metadata": {},
   "outputs": [],
   "source": [
    "test_histogram_equalization.TestEqualizeHistogram.eval(equalize_histogram_fn=equalize_histogram)"
   ]
  },
  {
   "cell_type": "markdown",
   "id": "0b7600e2",
   "metadata": {},
   "source": [
    "The following should show the original grayscale image `gray` and its equalized version."
   ]
  },
  {
   "cell_type": "code",
   "execution_count": null,
   "id": "f10d75f8",
   "metadata": {},
   "outputs": [],
   "source": [
    "fig, axes = plt.subplots(1, 2, figsize=plt.figaspect(0.5), layout='constrained')\n",
    "axes[0].imshow(gray, cmap='gray', vmin=0, vmax=255)\n",
    "axes[1].imshow(equalize_histogram(gray), cmap='gray', vmin=0, vmax=255);"
   ]
  },
  {
   "cell_type": "markdown",
   "id": "645c5ac6",
   "metadata": {},
   "source": [
    "# Task 1: histogram equalization for R, G and B channels independently"
   ]
  },
  {
   "cell_type": "markdown",
   "id": "e3c9e2f3",
   "metadata": {},
   "source": [
    "Implement the function `equalize_histogram_rgb_indep`. The function should perform the following steps:\n",
    "1. Split the R, G and B channels from `rgb`.\n",
    "2. Equalize each channel independently.\n",
    "3. Stack them together to form the new equalized `rgb_indep` image."
   ]
  },
  {
   "cell_type": "code",
   "execution_count": null,
   "id": "7bc46746",
   "metadata": {},
   "outputs": [],
   "source": [
    "def equalize_histogram_rgb_indep(rgb: np.ndarray) -> np.ndarray:\n",
    "    ########################################\n",
    "    # TODO: implement\n",
    "\n",
    "    raise NotImplementedError\n",
    "\n",
    "    # ENDTODO\n",
    "    ########################################"
   ]
  },
  {
   "cell_type": "code",
   "execution_count": null,
   "id": "bd1b8376",
   "metadata": {},
   "outputs": [],
   "source": [
    "test_histogram_equalization.TestEqualizeHistogramRGBIndep.eval(equalize_histogram_rgb_indep_fn=equalize_histogram_rgb_indep)"
   ]
  },
  {
   "cell_type": "code",
   "execution_count": null,
   "id": "fc4ba24f",
   "metadata": {},
   "outputs": [],
   "source": [
    "rgb_equ_indep = equalize_histogram_rgb_indep(rgb)"
   ]
  },
  {
   "cell_type": "code",
   "execution_count": null,
   "id": "2efc6680",
   "metadata": {},
   "outputs": [],
   "source": [
    "fig, axes = plt.subplots(1, 2, figsize=plt.figaspect(0.5), layout='constrained')\n",
    "axes[0].imshow(rgb)\n",
    "axes[1].imshow(rgb_equ_indep);"
   ]
  },
  {
   "cell_type": "markdown",
   "id": "aa53ea08",
   "metadata": {},
   "source": [
    "# Task 2: equalize using transformation LUT computed from grayscale image"
   ]
  },
  {
   "cell_type": "markdown",
   "id": "858a96b5",
   "metadata": {},
   "source": [
    "Implement the function `equalize_histogram_rgb_gray`. The function should perform the following steps:\n",
    "1. Convert `rgb` to grayscale (use the `gray` image from above).\n",
    "2. Compute the histogram equalization lookup table from the grayscale image.\n",
    "3. Apply this same LUT to every channel of the `rgb` image to form the new `rgb_equ_gray` equalized image."
   ]
  },
  {
   "cell_type": "code",
   "execution_count": null,
   "id": "1d3228df",
   "metadata": {},
   "outputs": [],
   "source": [
    "def equalize_histogram_rgb_gray(rgb: np.ndarray) -> np.ndarray:\n",
    "    ########################################\n",
    "    # TODO: implement\n",
    "\n",
    "    raise NotImplementedError\n",
    "\n",
    "    # ENDTODO\n",
    "    ########################################"
   ]
  },
  {
   "cell_type": "code",
   "execution_count": null,
   "id": "bdcea52c",
   "metadata": {},
   "outputs": [],
   "source": [
    "test_histogram_equalization.TestEqualizeHistogramRGBGray.eval(equalize_histogram_rgb_gray_fn=equalize_histogram_rgb_gray)"
   ]
  },
  {
   "cell_type": "code",
   "execution_count": null,
   "id": "f6314f64",
   "metadata": {},
   "outputs": [],
   "source": [
    "rgb_equ_gray = equalize_histogram_rgb_gray(rgb)"
   ]
  },
  {
   "cell_type": "code",
   "execution_count": null,
   "id": "b9312603",
   "metadata": {},
   "outputs": [],
   "source": [
    "fig, axes = plt.subplots(1, 2, figsize=plt.figaspect(0.5), layout='constrained')\n",
    "axes[0].imshow(rgb)\n",
    "axes[1].imshow(rgb_equ_gray);"
   ]
  },
  {
   "cell_type": "markdown",
   "id": "e9b02fca",
   "metadata": {},
   "source": [
    "# Task 3 (optional): implement `create_lut` function"
   ]
  },
  {
   "cell_type": "markdown",
   "id": "42d47231",
   "metadata": {},
   "source": [
    "Implement the function `create_lut` that will create a custom intensity transformation lookup table based on user's input. It's inputs is\n",
    "- `points`: list of `(a, b)` pairs such that brightness `a` maps to `b` in the resulting table\n",
    "\n",
    "Returns:\n",
    "- `q_enh`: lookup table as a vector of 256 values of type `np.ndarray` with shape `(256,)`\n",
    "\n",
    "Notes:\n",
    "- User specifies arbitrarily-sized sparse `list` of `(p, q)` pairs of which input brightness `a` should map to which output brightness `b`.\n",
    "- Everything in-between should be interpolated.\n",
    "- For example `create_lut([(0, 255), (255, 0)])` should return the same lookup table as `lut_neg` from the lecture notebook, because in this example `a=0` maps to `b=255`, `a=255` maps to `b=0` and everything inbetween will be linearly interpolated.\n",
    "- If the user's list starts from a pair in which `a > 0` or ends with a pair in which `a < 255`, then all values less than the smallest `a` will be mapped to a value of the `b` from the same pair.\n",
    "- For example, if the input list is `[(100, 100), (200, 200)]`, all values of `0 <= a < 100` will map to `b=100` and all values `200 < a < 256` will map to `b=200`."
   ]
  },
  {
   "cell_type": "code",
   "execution_count": null,
   "id": "ff9900a2",
   "metadata": {},
   "outputs": [],
   "source": [
    "def create_lut(points: list[tuple[int, int]]) -> np.ndarray:\n",
    "    \"\"\"\n",
    "    lookup table for arbitrary brightness transformation\n",
    "    \"\"\"\n",
    "\n",
    "    ########################################\n",
    "    # TODO: implement\n",
    "\n",
    "    raise NotImplementedError\n",
    "    \n",
    "    # ENDTODO\n",
    "    ########################################\n",
    "    \n",
    "    return lut"
   ]
  },
  {
   "cell_type": "code",
   "execution_count": null,
   "id": "300e03bf",
   "metadata": {},
   "outputs": [],
   "source": [
    "test_histogram_equalization.TestCreateLUT.eval(create_lut_fn=create_lut)"
   ]
  },
  {
   "cell_type": "code",
   "execution_count": null,
   "id": "87ccf2ff",
   "metadata": {},
   "outputs": [],
   "source": [
    "lut_neg = create_lut([(0, 255), (255, 0)])  # lookup table for negative\n",
    "lut_enh = create_lut([(0, 0), (50, 10), (200, 245), (255, 255)])  # lookup table for contrast enhancement\n",
    "lut_thr = create_lut([(0, 0), (100, 0), (101, 255), (255, 255)])  # lookup table for thresholding\n",
    "lut_arb = create_lut([(50, 150), (128, 30), (200, 255)])"
   ]
  },
  {
   "cell_type": "code",
   "execution_count": null,
   "id": "7f048dd2",
   "metadata": {},
   "outputs": [],
   "source": [
    "with sns.axes_style(style='darkgrid'):\n",
    "    fig, axes = plt.subplots(1, 4, figsize=plt.figaspect(0.25), layout='constrained')\n",
    "    axes[0].plot(lut_neg);\n",
    "    axes[1].plot(lut_enh);\n",
    "    axes[2].plot(lut_thr);\n",
    "    axes[3].plot(lut_arb);"
   ]
  },
  {
   "cell_type": "code",
   "execution_count": null,
   "id": "82708919",
   "metadata": {},
   "outputs": [],
   "source": [
    "fig, axes = plt.subplots(1, 4, figsize=plt.figaspect(0.25), layout='constrained')\n",
    "axes[0].imshow(lut_neg[gray], cmap='gray', vmin=0, vmax=255);\n",
    "axes[1].imshow(lut_enh[gray], cmap='gray', vmin=0, vmax=255);\n",
    "axes[2].imshow(lut_thr[gray], cmap='gray', vmin=0, vmax=255);\n",
    "axes[3].imshow(lut_arb[gray], cmap='gray', vmin=0, vmax=255);"
   ]
  }
 ],
 "metadata": {
  "kernelspec": {
   "display_name": "Python 3",
   "language": "python",
   "name": "python3"
  },
  "language_info": {
   "codemirror_mode": {
    "name": "ipython",
    "version": 3
   },
   "file_extension": ".py",
   "mimetype": "text/x-python",
   "name": "python",
   "nbconvert_exporter": "python",
   "pygments_lexer": "ipython3",
   "version": "3.11.5"
  },
  "vscode": {
   "interpreter": {
    "hash": "5b9074e4f59d9e4c1c666e845adc4ed7aca44e3ae145b1af153cab2889089e68"
   }
  }
 },
 "nbformat": 4,
 "nbformat_minor": 5
}
